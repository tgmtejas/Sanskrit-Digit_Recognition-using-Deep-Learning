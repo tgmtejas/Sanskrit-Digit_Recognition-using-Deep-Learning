{
  "nbformat": 4,
  "nbformat_minor": 0,
  "metadata": {
    "colab": {
      "name": "Code.ipynb",
      "version": "0.3.2",
      "provenance": [],
      "collapsed_sections": []
    },
    "kernelspec": {
      "name": "python3",
      "display_name": "Python 3"
    },
    "accelerator": "GPU"
  },
  "cells": [
    {
      "metadata": {
        "id": "i4LyestMvU1b",
        "colab_type": "code",
        "colab": {}
      },
      "cell_type": "code",
      "source": [
        "import os\n",
        "#os.chdir('Devnagri Detection')"
      ],
      "execution_count": 0,
      "outputs": []
    },
    {
      "metadata": {
        "id": "VjuXQE2-uaUe",
        "colab_type": "code",
        "colab": {}
      },
      "cell_type": "code",
      "source": [
        "import os\n",
        "import numpy as np\n",
        "import pandas as pd\n",
        "import cv2\n",
        "import matplotlib.pyplot as plt\n",
        "%matplotlib inline\n",
        "\n",
        "import warnings\n",
        "warnings.filterwarnings('ignore')\n",
        "\n",
        "from keras.utils.np_utils import to_categorical\n",
        "from sklearn.model_selection import train_test_split\n",
        "from keras.layers import Dense, Activation, Flatten, Dropout, concatenate, Input, Conv2D, MaxPooling2D\n",
        "import keras\n",
        "from keras.models import Sequential, Model\n",
        "from keras.optimizers import Adam"
      ],
      "execution_count": 0,
      "outputs": []
    },
    {
      "metadata": {
        "id": "ThY30bP6wjW3",
        "colab_type": "code",
        "colab": {}
      },
      "cell_type": "code",
      "source": [
        "train_dir = 'drive/Devnagri Detection/numerals'\n",
        "test_dir = 'Dataset/Devnagri_number'"
      ],
      "execution_count": 0,
      "outputs": []
    },
    {
      "metadata": {
        "id": "ggXpBjcQwxbJ",
        "colab_type": "code",
        "colab": {
          "base_uri": "https://localhost:8080/",
          "height": 195
        },
        "outputId": "614fb22f-cfce-4a28-844b-1bbf286d588d"
      },
      "cell_type": "code",
      "source": [
        "folders= ['0', '1', '2', '3', '4', '5', '6', '7', '8', '9']\n",
        "for folder in folders:\n",
        "    print('{} {} images'.format(folder, len(os.listdir(os.path.join(train_dir, folder)))))"
      ],
      "execution_count": 26,
      "outputs": [
        {
          "output_type": "stream",
          "text": [
            "0 298 images\n",
            "1 288 images\n",
            "2 288 images\n",
            "3 288 images\n",
            "4 288 images\n",
            "5 288 images\n",
            "6 288 images\n",
            "7 288 images\n",
            "8 288 images\n",
            "9 288 images\n"
          ],
          "name": "stdout"
        }
      ]
    },
    {
      "metadata": {
        "id": "YJvf3avtw1ZM",
        "colab_type": "code",
        "colab": {
          "base_uri": "https://localhost:8080/",
          "height": 35
        },
        "outputId": "9feba612-e7a8-4293-baaa-e4986f05d867"
      },
      "cell_type": "code",
      "source": [
        "train = []\n",
        "\n",
        "for folder_num, folder in enumerate(folders):\n",
        "    for file in os.listdir(os.path.join(train_dir, folder)):\n",
        "        train.append(['drive/Devnagri Detection/numerals/{}/{}'.format(folder, file), folder_num, folder])\n",
        "        \n",
        "train = pd.DataFrame(train, columns=['file', 'folder_num', 'folder'])\n",
        "\n",
        "print('Training Data: ',train.shape)"
      ],
      "execution_count": 27,
      "outputs": [
        {
          "output_type": "stream",
          "text": [
            "Training Data:  (2890, 3)\n"
          ],
          "name": "stdout"
        }
      ]
    },
    {
      "metadata": {
        "id": "OAYNYVB5yw2O",
        "colab_type": "code",
        "colab": {
          "base_uri": "https://localhost:8080/",
          "height": 194
        },
        "outputId": "eacfe631-d3dd-48ef-fc8b-f6162448bfcc"
      },
      "cell_type": "code",
      "source": [
        "train.head()"
      ],
      "execution_count": 10,
      "outputs": [
        {
          "output_type": "execute_result",
          "data": {
            "text/html": [
              "<div>\n",
              "<style scoped>\n",
              "    .dataframe tbody tr th:only-of-type {\n",
              "        vertical-align: middle;\n",
              "    }\n",
              "\n",
              "    .dataframe tbody tr th {\n",
              "        vertical-align: top;\n",
              "    }\n",
              "\n",
              "    .dataframe thead th {\n",
              "        text-align: right;\n",
              "    }\n",
              "</style>\n",
              "<table border=\"1\" class=\"dataframe\">\n",
              "  <thead>\n",
              "    <tr style=\"text-align: right;\">\n",
              "      <th></th>\n",
              "      <th>file</th>\n",
              "      <th>folder_num</th>\n",
              "      <th>folder</th>\n",
              "    </tr>\n",
              "  </thead>\n",
              "  <tbody>\n",
              "    <tr>\n",
              "      <th>0</th>\n",
              "      <td>drive/Devnagri Detection/numerals/0/008_02.jpg</td>\n",
              "      <td>0</td>\n",
              "      <td>0</td>\n",
              "    </tr>\n",
              "    <tr>\n",
              "      <th>1</th>\n",
              "      <td>drive/Devnagri Detection/numerals/0/008_03.jpg</td>\n",
              "      <td>0</td>\n",
              "      <td>0</td>\n",
              "    </tr>\n",
              "    <tr>\n",
              "      <th>2</th>\n",
              "      <td>drive/Devnagri Detection/numerals/0/010_01.jpg</td>\n",
              "      <td>0</td>\n",
              "      <td>0</td>\n",
              "    </tr>\n",
              "    <tr>\n",
              "      <th>3</th>\n",
              "      <td>drive/Devnagri Detection/numerals/0/008_08.jpg</td>\n",
              "      <td>0</td>\n",
              "      <td>0</td>\n",
              "    </tr>\n",
              "    <tr>\n",
              "      <th>4</th>\n",
              "      <td>drive/Devnagri Detection/numerals/0/008_07.jpg</td>\n",
              "      <td>0</td>\n",
              "      <td>0</td>\n",
              "    </tr>\n",
              "  </tbody>\n",
              "</table>\n",
              "</div>"
            ],
            "text/plain": [
              "                                             file  folder_num folder\n",
              "0  drive/Devnagri Detection/numerals/0/008_02.jpg           0      0\n",
              "1  drive/Devnagri Detection/numerals/0/008_03.jpg           0      0\n",
              "2  drive/Devnagri Detection/numerals/0/010_01.jpg           0      0\n",
              "3  drive/Devnagri Detection/numerals/0/008_08.jpg           0      0\n",
              "4  drive/Devnagri Detection/numerals/0/008_07.jpg           0      0"
            ]
          },
          "metadata": {
            "tags": []
          },
          "execution_count": 10
        }
      ]
    },
    {
      "metadata": {
        "id": "fYM3W_25zijf",
        "colab_type": "code",
        "colab": {
          "base_uri": "https://localhost:8080/",
          "height": 35
        },
        "outputId": "460d2ae1-60d9-439c-d121-3c99813a6494"
      },
      "cell_type": "code",
      "source": [
        "c= train['file'][1]\n",
        "print(c)\n",
        "\n",
        "img = cv2.imread('drive/Devnagri Detection/numerals/0/008_03.jpg')\n"
      ],
      "execution_count": 11,
      "outputs": [
        {
          "output_type": "stream",
          "text": [
            "drive/Devnagri Detection/numerals/0/008_03.jpg\n"
          ],
          "name": "stdout"
        }
      ]
    },
    {
      "metadata": {
        "id": "GhVp3Xl21Ka0",
        "colab_type": "code",
        "colab": {
          "base_uri": "https://localhost:8080/",
          "height": 888
        },
        "outputId": "71aec118-ac2e-4192-b3a7-dc66c4f56c59"
      },
      "cell_type": "code",
      "source": [
        "print(img)"
      ],
      "execution_count": 12,
      "outputs": [
        {
          "output_type": "stream",
          "text": [
            "[[[250 250 250]\n",
            "  [255 255 255]\n",
            "  [255 255 255]\n",
            "  ...\n",
            "  [252 252 252]\n",
            "  [252 252 252]\n",
            "  [252 252 252]]\n",
            "\n",
            " [[255 255 255]\n",
            "  [255 255 255]\n",
            "  [252 252 252]\n",
            "  ...\n",
            "  [249 249 249]\n",
            "  [249 249 249]\n",
            "  [249 249 249]]\n",
            "\n",
            " [[255 255 255]\n",
            "  [252 252 252]\n",
            "  [250 250 250]\n",
            "  ...\n",
            "  [252 252 252]\n",
            "  [252 252 252]\n",
            "  [252 252 252]]\n",
            "\n",
            " ...\n",
            "\n",
            " [[255 255 255]\n",
            "  [255 255 255]\n",
            "  [224 224 224]\n",
            "  ...\n",
            "  [255 255 255]\n",
            "  [255 255 255]\n",
            "  [255 255 255]]\n",
            "\n",
            " [[250 250 250]\n",
            "  [246 246 246]\n",
            "  [253 253 253]\n",
            "  ...\n",
            "  [255 255 255]\n",
            "  [255 255 255]\n",
            "  [255 255 255]]\n",
            "\n",
            " [[255 255 255]\n",
            "  [252 252 252]\n",
            "  [248 248 248]\n",
            "  ...\n",
            "  [255 255 255]\n",
            "  [255 255 255]\n",
            "  [255 255 255]]]\n"
          ],
          "name": "stdout"
        }
      ]
    },
    {
      "metadata": {
        "id": "GSSjeZsmy1on",
        "colab_type": "code",
        "colab": {
          "base_uri": "https://localhost:8080/",
          "height": 70
        },
        "outputId": "2cae7c13-8279-483d-de71-e76e83903415"
      },
      "cell_type": "code",
      "source": [
        "x_train = []\n",
        "\n",
        "for i in range(len(train)):\n",
        "    img = cv2.imread(train['file'][i],0)\n",
        "    img = cv2.resize(img,dsize=(36,36))\n",
        "    bgr = cv2.cvtColor(img, cv2.COLOR_GRAY2BGR)\n",
        "    hsv = cv2.cvtColor(bgr, cv2.COLOR_BGR2HSV)\n",
        "    lower = np.array([0,0,0])\n",
        "    upper = np.array([255,255,255])\n",
        "    mask = cv2.inRange(hsv, lower, upper)\n",
        "    res = cv2.bitwise_and(img,img, mask= mask)\n",
        "    #kernel = np.ones((5,5),np.uint8)\n",
        "    #kernel2 = np.ones((3,3),np.uint8)\n",
        "    \n",
        "    ret,thresh1 = cv2.threshold(res,150,255,cv2.THRESH_BINARY)\n",
        "    laplacian = cv2.Laplacian(thresh1,cv2.CV_64F)\n",
        "    #sobelx = cv2.Sobel(thresh1,cv2.CV_64F,1,0,ksize=5)\n",
        "    #sobely = cv2.Sobel(thresh1,cv2.CV_64F,0,1,ksize=5)\n",
        "\n",
        "    #ridge_filter = cv2.ximgproc.RidgeDetectionFilter_create()\n",
        "    #ridges = ridge_filter.getRidgeFilteredImage(thresh1)\n",
        "    \n",
        "    thresh1 = np.reshape(thresh1,(36,36,1))\n",
        "    laplacian = np.reshape(laplacian,(36,36,1))\n",
        "    #ridges = np.reshape(ridges,(224,224,1))\n",
        "    \n",
        "    x_train.append(np.concatenate((np.array(thresh1),np.array(laplacian)),axis=2))\n",
        "    \n",
        "    if ((i % 1000) == 0):\n",
        "        print(i)"
      ],
      "execution_count": 13,
      "outputs": [
        {
          "output_type": "stream",
          "text": [
            "0\n",
            "1000\n",
            "2000\n"
          ],
          "name": "stdout"
        }
      ]
    },
    {
      "metadata": {
        "id": "5yv3A-SqMwPG",
        "colab_type": "code",
        "colab": {
          "base_uri": "https://localhost:8080/",
          "height": 124
        },
        "outputId": "48e79b6e-70b3-4373-d6f5-7399e2caee48"
      },
      "cell_type": "code",
      "source": [
        "x_train = []\n",
        "\n",
        "for i in range(len(train)):\n",
        "    img = cv2.imread(train['file'][i],0)\n",
        "    img = np.reshape(img,(36,36,1))\n",
        "    x_train.append(img)\n",
        "    if ((i % 500) == 0):\n",
        "        print(i)"
      ],
      "execution_count": 28,
      "outputs": [
        {
          "output_type": "stream",
          "text": [
            "0\n",
            "500\n",
            "1000\n",
            "1500\n",
            "2000\n",
            "2500\n"
          ],
          "name": "stdout"
        }
      ]
    },
    {
      "metadata": {
        "id": "brSyPkpy-pAl",
        "colab_type": "code",
        "colab": {
          "base_uri": "https://localhost:8080/",
          "height": 35
        },
        "outputId": "f97c0480-d298-49ea-9e39-78d2bc64b206"
      },
      "cell_type": "code",
      "source": [
        "x_train = np.array(x_train)\n",
        "x_train[1].shape"
      ],
      "execution_count": 29,
      "outputs": [
        {
          "output_type": "execute_result",
          "data": {
            "text/plain": [
              "(36, 36, 1)"
            ]
          },
          "metadata": {
            "tags": []
          },
          "execution_count": 29
        }
      ]
    },
    {
      "metadata": {
        "id": "TOqvJ9dVzEQn",
        "colab_type": "code",
        "colab": {
          "base_uri": "https://localhost:8080/",
          "height": 35
        },
        "outputId": "23a05129-cca4-4e60-e138-bf192626b6a1"
      },
      "cell_type": "code",
      "source": [
        "y_train = train['folder_num']\n",
        "y_train = to_categorical(y_train, num_classes = len(folders))\n",
        "print(y_train[1])"
      ],
      "execution_count": 30,
      "outputs": [
        {
          "output_type": "stream",
          "text": [
            "[1. 0. 0. 0. 0. 0. 0. 0. 0. 0.]\n"
          ],
          "name": "stdout"
        }
      ]
    },
    {
      "metadata": {
        "id": "ZmGg54-1Uu3a",
        "colab_type": "code",
        "colab": {}
      },
      "cell_type": "code",
      "source": [
        "x_train, x_val, y_train, y_val = train_test_split(x_train, y_train, test_size = 0.2, random_state=10)"
      ],
      "execution_count": 0,
      "outputs": []
    },
    {
      "metadata": {
        "id": "68Ky8N16Uxbp",
        "colab_type": "code",
        "colab": {
          "base_uri": "https://localhost:8080/",
          "height": 35
        },
        "outputId": "1a74f78e-5370-4873-94a6-bf4fb458cc5f"
      },
      "cell_type": "code",
      "source": [
        "input_shape = x_train[1].shape\n",
        "print('Input Shape is :', input_shape)"
      ],
      "execution_count": 32,
      "outputs": [
        {
          "output_type": "stream",
          "text": [
            "Input Shape is : (36, 36, 1)\n"
          ],
          "name": "stdout"
        }
      ]
    },
    {
      "metadata": {
        "id": "vkh1gnT6U9dZ",
        "colab_type": "code",
        "colab": {
          "base_uri": "https://localhost:8080/",
          "height": 532
        },
        "outputId": "1661d768-e4c7-4e97-d68f-dfcdbc20be92"
      },
      "cell_type": "code",
      "source": [
        "\"\"\"def ConMax1(inputs, filters):\n",
        "    x= Conv2D(filters, (3,3), activation='relu', padding='same')(inputs)\n",
        "    x= Conv2D(filters, (3,3), activation='relu', padding='same')(x)\n",
        "    out= MaxPooling2D((2, 2), strides=(1, 1), padding='same')(x)\n",
        "    return out\n",
        "\n",
        "def ConMax2(inputs, filters):\n",
        "    x= Conv2D(filters, (3,3), activation='relu', padding='same')(inputs)\n",
        "    x= Conv2D(filters, (3,3), activation='relu', padding='same')(x)\n",
        "    x= Conv2D(filters, (3,3), activation='relu', padding='same')(x)\n",
        "    out= MaxPooling2D((2, 2), strides=(1, 1), padding='same')(x)\n",
        "    return out\n",
        "    \n",
        "def full_layer(inpust, neurons, dropout):\n",
        "    x = Dense(neurons, activation='relu')(inpust)\n",
        "    out = Dropout(dropout)(x)\n",
        "    \n",
        "image_input=Input(shape=input_shape)\n",
        "ip = ConMax1(image_input, 64)\n",
        "ip = ConMax1(ip, 128)\n",
        "ip = ConMax2(ip, 256)\n",
        "ip = ConMax2(ip, 512)\n",
        "ip = ConMax2(ip, 512)\n",
        "ip = Flatten()(ip)\n",
        "\n",
        "ip = Dense(256, activation='relu')(ip)\n",
        "ip = Dropout(0.5)(ip)\n",
        "ip = Dense(256, activation='relu')(ip)\n",
        "ip = Dropout(0.5)(ip)\n",
        "out = Dense(len(folders), activation='softmax')(ip)\n",
        "\n",
        "model_new3 = Model(image_input, out)\n",
        "model_new3.summary()\n",
        "\"\"\"\n",
        "image_input=Input(shape=input_shape)\n",
        "x = Conv2D(32, (5, 5), activation= 'tanh', padding ='valid')(image_input)\n",
        "x= MaxPooling2D((2,2), strides=(1, 1), padding='same')(x)\n",
        "\n",
        "x = Conv2D(32, (5, 5), activation= 'tanh', padding ='valid')(x)\n",
        "x= MaxPooling2D((2,2), strides=(1, 1), padding='same')(x)\n",
        "\n",
        "x = Conv2D(32, (5, 5), activation= 'tanh', padding ='valid')(image_input)\n",
        "x= MaxPooling2D((2,2), strides=(1, 1), padding='same')(x)\n",
        "\n",
        "x = Conv2D(32, (5, 5), activation= 'tanh', padding ='valid')(x)\n",
        "x= MaxPooling2D((2,2), strides=(1, 1), padding='same')(x)\n",
        "\n",
        "x = Conv2D(32, (5, 5), activation= 'tanh', padding ='valid')(image_input)\n",
        "x= MaxPooling2D((2,2), strides=(1, 1), padding='same')(x)\n",
        "\n",
        "x = Conv2D(32, (5, 5), activation= 'tanh', padding ='valid')(x)\n",
        "x= MaxPooling2D((2,2), strides=(1, 1), padding='same')(x)\n",
        "\n",
        "x = Conv2D(32, (5, 5), activation= 'tanh', padding ='valid')(image_input)\n",
        "x= MaxPooling2D((2,2), strides=(1, 1), padding='same')(x)\n",
        "\n",
        "x = Conv2D(32, (5, 5), activation= 'tanh', padding ='valid')(x)\n",
        "x= MaxPooling2D((2,2), strides=(1, 1), padding='same')(x)\n",
        "\n",
        "x= Flatten()(x)\n",
        "\n",
        "x = Dense(256, activation='relu')(x)\n",
        "x = Dropout(0.2)(x)\n",
        "\n",
        "x = Dense(256, activation='relu')(x)\n",
        "x = Dropout(0.2)(x)\n",
        "\n",
        "out = Dense(len(folders), activation='softmax')(x)\n",
        "\n",
        "model_new3 = Model(image_input, out)\n",
        "model_new3.summary()"
      ],
      "execution_count": 45,
      "outputs": [
        {
          "output_type": "stream",
          "text": [
            "_________________________________________________________________\n",
            "Layer (type)                 Output Shape              Param #   \n",
            "=================================================================\n",
            "input_13 (InputLayer)        (None, 36, 36, 1)         0         \n",
            "_________________________________________________________________\n",
            "conv2d_21 (Conv2D)           (None, 32, 32, 32)        832       \n",
            "_________________________________________________________________\n",
            "max_pooling2d_17 (MaxPooling (None, 32, 32, 32)        0         \n",
            "_________________________________________________________________\n",
            "conv2d_22 (Conv2D)           (None, 28, 28, 32)        25632     \n",
            "_________________________________________________________________\n",
            "max_pooling2d_18 (MaxPooling (None, 28, 28, 32)        0         \n",
            "_________________________________________________________________\n",
            "flatten_4 (Flatten)          (None, 25088)             0         \n",
            "_________________________________________________________________\n",
            "dense_8 (Dense)              (None, 256)               6422784   \n",
            "_________________________________________________________________\n",
            "dropout_5 (Dropout)          (None, 256)               0         \n",
            "_________________________________________________________________\n",
            "dense_9 (Dense)              (None, 256)               65792     \n",
            "_________________________________________________________________\n",
            "dropout_6 (Dropout)          (None, 256)               0         \n",
            "_________________________________________________________________\n",
            "dense_10 (Dense)             (None, 10)                2570      \n",
            "=================================================================\n",
            "Total params: 6,517,610\n",
            "Trainable params: 6,517,610\n",
            "Non-trainable params: 0\n",
            "_________________________________________________________________\n"
          ],
          "name": "stdout"
        }
      ]
    },
    {
      "metadata": {
        "id": "x8fqWmNSaXAj",
        "colab_type": "code",
        "colab": {}
      },
      "cell_type": "code",
      "source": [
        "model_new3.compile(optimizer = Adam(lr=.001) , loss = 'categorical_crossentropy', metrics=['accuracy'])"
      ],
      "execution_count": 0,
      "outputs": []
    },
    {
      "metadata": {
        "id": "cKgqDa1FajmB",
        "colab_type": "code",
        "colab": {
          "base_uri": "https://localhost:8080/",
          "height": 1457
        },
        "outputId": "0b4d8ae7-39bf-4d34-fce6-f3f102be193a"
      },
      "cell_type": "code",
      "source": [
        "model_new3.fit(x_train, y_train, epochs=40, batch_size=50)"
      ],
      "execution_count": 47,
      "outputs": [
        {
          "output_type": "stream",
          "text": [
            "Epoch 1/40\n",
            "2312/2312 [==============================] - 2s 1ms/step - loss: 2.0966 - acc: 0.5640\n",
            "Epoch 2/40\n",
            "2312/2312 [==============================] - 1s 483us/step - loss: 0.4948 - acc: 0.8408\n",
            "Epoch 3/40\n",
            "2312/2312 [==============================] - 1s 472us/step - loss: 0.3606 - acc: 0.8824\n",
            "Epoch 4/40\n",
            "2312/2312 [==============================] - 1s 511us/step - loss: 0.3683 - acc: 0.8919\n",
            "Epoch 5/40\n",
            "2312/2312 [==============================] - 1s 471us/step - loss: 0.2785 - acc: 0.9178\n",
            "Epoch 6/40\n",
            "2312/2312 [==============================] - 1s 473us/step - loss: 0.2264 - acc: 0.9360\n",
            "Epoch 7/40\n",
            "2312/2312 [==============================] - 1s 472us/step - loss: 0.1666 - acc: 0.9533\n",
            "Epoch 8/40\n",
            "2312/2312 [==============================] - 1s 477us/step - loss: 0.1481 - acc: 0.9606\n",
            "Epoch 9/40\n",
            "2312/2312 [==============================] - 1s 471us/step - loss: 0.2107 - acc: 0.9494\n",
            "Epoch 10/40\n",
            "2312/2312 [==============================] - 1s 470us/step - loss: 0.2467 - acc: 0.9407\n",
            "Epoch 11/40\n",
            "2312/2312 [==============================] - 1s 480us/step - loss: 0.5051 - acc: 0.8940\n",
            "Epoch 12/40\n",
            "2312/2312 [==============================] - 1s 469us/step - loss: 0.3342 - acc: 0.9260\n",
            "Epoch 13/40\n",
            "2312/2312 [==============================] - 1s 465us/step - loss: 0.3586 - acc: 0.9295\n",
            "Epoch 14/40\n",
            "2312/2312 [==============================] - 1s 470us/step - loss: 0.2650 - acc: 0.9407\n",
            "Epoch 15/40\n",
            "2312/2312 [==============================] - 1s 471us/step - loss: 0.2903 - acc: 0.9429\n",
            "Epoch 16/40\n",
            "2312/2312 [==============================] - 1s 472us/step - loss: 0.4364 - acc: 0.9312\n",
            "Epoch 17/40\n",
            "2312/2312 [==============================] - 1s 470us/step - loss: 0.4427 - acc: 0.9226\n",
            "Epoch 18/40\n",
            "2312/2312 [==============================] - 1s 470us/step - loss: 0.3931 - acc: 0.9351\n",
            "Epoch 19/40\n",
            "2312/2312 [==============================] - 1s 472us/step - loss: 0.1586 - acc: 0.9624\n",
            "Epoch 20/40\n",
            "2312/2312 [==============================] - 1s 468us/step - loss: 0.1940 - acc: 0.9606\n",
            "Epoch 21/40\n",
            "2312/2312 [==============================] - 1s 470us/step - loss: 0.1561 - acc: 0.9728\n",
            "Epoch 22/40\n",
            "2312/2312 [==============================] - 1s 471us/step - loss: 0.1108 - acc: 0.9758\n",
            "Epoch 23/40\n",
            "2312/2312 [==============================] - 1s 472us/step - loss: 0.0995 - acc: 0.9784\n",
            "Epoch 24/40\n",
            "2312/2312 [==============================] - 1s 469us/step - loss: 0.0564 - acc: 0.9870\n",
            "Epoch 25/40\n",
            "2312/2312 [==============================] - 1s 475us/step - loss: 0.0378 - acc: 0.9926\n",
            "Epoch 26/40\n",
            "2312/2312 [==============================] - 1s 473us/step - loss: 0.0413 - acc: 0.9913\n",
            "Epoch 27/40\n",
            "2312/2312 [==============================] - 1s 469us/step - loss: 0.0730 - acc: 0.9857\n",
            "Epoch 28/40\n",
            "2312/2312 [==============================] - 1s 479us/step - loss: 0.0860 - acc: 0.9836\n",
            "Epoch 29/40\n",
            "2312/2312 [==============================] - 1s 486us/step - loss: 0.0910 - acc: 0.9844\n",
            "Epoch 30/40\n",
            "2312/2312 [==============================] - 1s 480us/step - loss: 0.1275 - acc: 0.9788\n",
            "Epoch 31/40\n",
            "2312/2312 [==============================] - 1s 496us/step - loss: 0.0651 - acc: 0.9892\n",
            "Epoch 32/40\n",
            "2312/2312 [==============================] - 1s 480us/step - loss: 0.0519 - acc: 0.9905\n",
            "Epoch 33/40\n",
            "2312/2312 [==============================] - 1s 471us/step - loss: 0.0540 - acc: 0.9879\n",
            "Epoch 34/40\n",
            "2312/2312 [==============================] - 1s 491us/step - loss: 0.1225 - acc: 0.9784\n",
            "Epoch 35/40\n",
            "2312/2312 [==============================] - 1s 472us/step - loss: 0.1221 - acc: 0.9788\n",
            "Epoch 36/40\n",
            "2312/2312 [==============================] - 1s 472us/step - loss: 0.1198 - acc: 0.9823\n",
            "Epoch 37/40\n",
            "2312/2312 [==============================] - 1s 482us/step - loss: 0.1122 - acc: 0.9788\n",
            "Epoch 38/40\n",
            "2312/2312 [==============================] - 1s 467us/step - loss: 0.1321 - acc: 0.9762\n",
            "Epoch 39/40\n",
            "2312/2312 [==============================] - 1s 476us/step - loss: 0.1108 - acc: 0.9823\n",
            "Epoch 40/40\n",
            "2312/2312 [==============================] - 1s 486us/step - loss: 0.1343 - acc: 0.9779\n"
          ],
          "name": "stdout"
        },
        {
          "output_type": "execute_result",
          "data": {
            "text/plain": [
              "<keras.callbacks.History at 0x7f2245123f28>"
            ]
          },
          "metadata": {
            "tags": []
          },
          "execution_count": 47
        }
      ]
    },
    {
      "metadata": {
        "id": "ngk4xSkTaoGG",
        "colab_type": "code",
        "colab": {
          "base_uri": "https://localhost:8080/",
          "height": 35
        },
        "outputId": "5540aea6-ab26-4c02-d12f-929b8553e69c"
      },
      "cell_type": "code",
      "source": [
        "y_val_pred = model_new3.evaluate(x_val, y_val, batch_size=32, verbose=1, sample_weight=None)"
      ],
      "execution_count": 48,
      "outputs": [
        {
          "output_type": "stream",
          "text": [
            "578/578 [==============================] - 0s 495us/step\n"
          ],
          "name": "stdout"
        }
      ]
    },
    {
      "metadata": {
        "id": "p0sudIewXrLc",
        "colab_type": "code",
        "colab": {
          "base_uri": "https://localhost:8080/",
          "height": 52
        },
        "outputId": "0fea198d-81cc-426c-8903-742aac6a4fd1"
      },
      "cell_type": "code",
      "source": [
        "print (\"Validation Loss = \" + str(y_val_pred[0]))\n",
        "print (\"Validation Accuracy = \" + str(y_val_pred[1]))"
      ],
      "execution_count": 49,
      "outputs": [
        {
          "output_type": "stream",
          "text": [
            "Validation Loss = 0.2815931026897736\n",
            "Validation Accuracy = 0.9653979238754326\n"
          ],
          "name": "stdout"
        }
      ]
    },
    {
      "metadata": {
        "id": "KsKcn65JXv7l",
        "colab_type": "code",
        "colab": {}
      },
      "cell_type": "code",
      "source": [
        ""
      ],
      "execution_count": 0,
      "outputs": []
    }
  ]
}